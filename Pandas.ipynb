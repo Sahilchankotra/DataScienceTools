{
 "cells": [
  {
   "cell_type": "markdown",
   "metadata": {},
   "source": [
    "### Pandas is the most popular python library that is used for data analysis. It provides highly optimized performance with back-end source code is purely written in C or Python\n",
    "\n",
    "## We can analyze data in pandas with:\n",
    "\n",
    "### 1.) Series\n",
    "### 2.) DataFrames"
   ]
  },
  {
   "cell_type": "markdown",
   "metadata": {},
   "source": [
    "### Series is one dimensional(1-D) array defined in pandas that can be used to store any data type.\n",
    "### DataFrames is two-dimensional(2-D) data structure defined in pandas which consists of rows and columns."
   ]
  },
  {
   "cell_type": "markdown",
   "metadata": {},
   "source": [
    "\n",
    "# Series"
   ]
  },
  {
   "cell_type": "code",
   "execution_count": 2,
   "metadata": {},
   "outputs": [],
   "source": [
    "#Import Library\n",
    "import pandas as pd\n"
   ]
  },
  {
   "cell_type": "code",
   "execution_count": 4,
   "metadata": {},
   "outputs": [
    {
     "data": {
      "text/plain": [
       "0    1\n",
       "1    2\n",
       "2    3\n",
       "3    4\n",
       "4    5\n",
       "5    6\n",
       "dtype: int64"
      ]
     },
     "execution_count": 4,
     "metadata": {},
     "output_type": "execute_result"
    }
   ],
   "source": [
    "# Create data without index, that's why it took by default indexing started with 0 to 5\n",
    "data=[1,2,3,4,5,6]\n",
    "tb=pd.Series(data)\n",
    "tb"
   ]
  },
  {
   "cell_type": "code",
   "execution_count": 5,
   "metadata": {},
   "outputs": [
    {
     "data": {
      "text/plain": [
       "1    a\n",
       "2    b\n",
       "3    c\n",
       "4    d\n",
       "5    e\n",
       "6    f\n",
       "7    g\n",
       "dtype: object"
      ]
     },
     "execution_count": 5,
     "metadata": {},
     "output_type": "execute_result"
    }
   ],
   "source": [
    "# Create data with indexign form\n",
    "data=['a','b','c','d','e','f','g']\n",
    "index=[1,2,3,4,5,6,7]\n",
    "tix=pd.Series(data,index)\n",
    "tix"
   ]
  },
  {
   "cell_type": "code",
   "execution_count": 9,
   "metadata": {},
   "outputs": [
    {
     "name": "stdout",
     "output_type": "stream",
     "text": [
      "a    1\n",
      "b    2\n",
      "c    3\n",
      "d    4\n",
      "e    5\n",
      "dtype: int64\n"
     ]
    }
   ],
   "source": [
    "# Create dict using series\n",
    "s={'a':1,'b':2,'c':3,'d':4,'e':5}\n",
    "print(pd.Series(s))"
   ]
  },
  {
   "cell_type": "code",
   "execution_count": 11,
   "metadata": {},
   "outputs": [
    {
     "data": {
      "text/plain": [
       "0    [1, 2, 3, 4]\n",
       "1    [5, 6, 7, 9]\n",
       "dtype: object"
      ]
     },
     "execution_count": 11,
     "metadata": {},
     "output_type": "execute_result"
    }
   ],
   "source": [
    "#2d array\n",
    "data=[[1,2,3,4],[5,6,7,9]]\n",
    "d2d=pd.Series(data)\n",
    "d2d"
   ]
  },
  {
   "cell_type": "code",
   "execution_count": 18,
   "metadata": {},
   "outputs": [
    {
     "name": "stdout",
     "output_type": "stream",
     "text": [
      "a    0.076194\n",
      "b   -1.794561\n",
      "c    1.576532\n",
      "d    2.451905\n",
      "e   -0.867938\n",
      "dtype: float64\n",
      "Index(['a', 'b', 'c', 'd', 'e'], dtype='object')\n"
     ]
    }
   ],
   "source": [
    "#From ndarray\n",
    "import numpy as np\n",
    "s=pd.Series(np.random.randn(5),index=['a','b','c','d','e'])\n",
    "print(s)\n",
    "print(s.index)"
   ]
  },
  {
   "cell_type": "code",
   "execution_count": 21,
   "metadata": {},
   "outputs": [
    {
     "data": {
      "text/plain": [
       "b    1.0\n",
       "c    3.0\n",
       "e    NaN\n",
       "a    0.0\n",
       "dtype: float64"
      ]
     },
     "execution_count": 21,
     "metadata": {},
     "output_type": "execute_result"
    }
   ],
   "source": [
    "#Example\n",
    "d={'a':0,'b':1,'c':3}\n",
    "index=['b','c','e','a']\n",
    "s=pd.Series(d,index)\n",
    "s"
   ]
  },
  {
   "cell_type": "code",
   "execution_count": 31,
   "metadata": {},
   "outputs": [
    {
     "name": "stdout",
     "output_type": "stream",
     "text": [
      "b    1.0\n",
      "c    3.0\n",
      "e    NaN\n",
      "a    0.0\n",
      "dtype: float64\n",
      "nan\n",
      "3.0\n",
      "b    1.0\n",
      "c    3.0\n",
      "dtype: float64\n",
      "float64\n",
      "<PandasArray>\n",
      "[1.0, 3.0, nan, 0.0]\n",
      "Length: 4, dtype: float64\n",
      "[ 1.  3. nan  0.]\n"
     ]
    }
   ],
   "source": [
    "# Calling the index of the array\n",
    "print(s[:])\n",
    "print(s[2])\n",
    "print(s[1])\n",
    "print(s[:-2])\n",
    "print(s.dtype)\n",
    "print(s.array)\n",
    "print(s.to_numpy())"
   ]
  },
  {
   "cell_type": "code",
   "execution_count": 35,
   "metadata": {},
   "outputs": [
    {
     "name": "stdout",
     "output_type": "stream",
     "text": [
      "b    3.0\n",
      "c    9.0\n",
      "e    NaN\n",
      "a    0.0\n",
      "dtype: float64\n",
      "b    3.0\n",
      "c    9.0\n",
      "e    NaN\n",
      "a    0.0\n",
      "dtype: float64\n"
     ]
    }
   ],
   "source": [
    "# Operations\n",
    "print(s+s+s)\n",
    "print(s*3)"
   ]
  },
  {
   "cell_type": "code",
   "execution_count": null,
   "metadata": {},
   "outputs": [],
   "source": []
  },
  {
   "cell_type": "markdown",
   "metadata": {},
   "source": [
    "# DataFrames"
   ]
  },
  {
   "cell_type": "code",
   "execution_count": 43,
   "metadata": {},
   "outputs": [
    {
     "data": {
      "text/html": [
       "<div>\n",
       "<style scoped>\n",
       "    .dataframe tbody tr th:only-of-type {\n",
       "        vertical-align: middle;\n",
       "    }\n",
       "\n",
       "    .dataframe tbody tr th {\n",
       "        vertical-align: top;\n",
       "    }\n",
       "\n",
       "    .dataframe thead th {\n",
       "        text-align: right;\n",
       "    }\n",
       "</style>\n",
       "<table border=\"1\" class=\"dataframe\">\n",
       "  <thead>\n",
       "    <tr style=\"text-align: right;\">\n",
       "      <th></th>\n",
       "      <th>first</th>\n",
       "      <th>second</th>\n",
       "    </tr>\n",
       "  </thead>\n",
       "  <tbody>\n",
       "    <tr>\n",
       "      <th>1</th>\n",
       "      <td>a</td>\n",
       "      <td>e</td>\n",
       "    </tr>\n",
       "    <tr>\n",
       "      <th>2</th>\n",
       "      <td>b</td>\n",
       "      <td>f</td>\n",
       "    </tr>\n",
       "    <tr>\n",
       "      <th>3</th>\n",
       "      <td>c</td>\n",
       "      <td>g</td>\n",
       "    </tr>\n",
       "    <tr>\n",
       "      <th>4</th>\n",
       "      <td>d</td>\n",
       "      <td>e</td>\n",
       "    </tr>\n",
       "    <tr>\n",
       "      <th>5</th>\n",
       "      <td>NaN</td>\n",
       "      <td>p</td>\n",
       "    </tr>\n",
       "  </tbody>\n",
       "</table>\n",
       "</div>"
      ],
      "text/plain": [
       "  first second\n",
       "1     a      e\n",
       "2     b      f\n",
       "3     c      g\n",
       "4     d      e\n",
       "5   NaN      p"
      ]
     },
     "execution_count": 43,
     "metadata": {},
     "output_type": "execute_result"
    }
   ],
   "source": [
    "import pandas as pd\n",
    "dict1={1:\"a\",2:\"b\",3:\"c\",4:\"d\"}\n",
    "dict2={1:\"e\",2:\"f\",3:\"g\",4:\"e\",5:\"p\"}\n",
    "data={'first':dict1,'second':dict2}\n",
    "a=pd.DataFrame(data)\n",
    "a"
   ]
  },
  {
   "cell_type": "code",
   "execution_count": 49,
   "metadata": {},
   "outputs": [
    {
     "data": {
      "text/html": [
       "<div>\n",
       "<style scoped>\n",
       "    .dataframe tbody tr th:only-of-type {\n",
       "        vertical-align: middle;\n",
       "    }\n",
       "\n",
       "    .dataframe tbody tr th {\n",
       "        vertical-align: top;\n",
       "    }\n",
       "\n",
       "    .dataframe thead th {\n",
       "        text-align: right;\n",
       "    }\n",
       "</style>\n",
       "<table border=\"1\" class=\"dataframe\">\n",
       "  <thead>\n",
       "    <tr style=\"text-align: right;\">\n",
       "      <th></th>\n",
       "      <th>w</th>\n",
       "      <th>e</th>\n",
       "      <th>r</th>\n",
       "    </tr>\n",
       "  </thead>\n",
       "  <tbody>\n",
       "    <tr>\n",
       "      <th>a</th>\n",
       "      <td>[1, 2, 3, 4]</td>\n",
       "      <td>[6, 7, 5, 4]</td>\n",
       "      <td>[31, 32, 43, 32]</td>\n",
       "    </tr>\n",
       "    <tr>\n",
       "      <th>b</th>\n",
       "      <td>[1, 2, 3, 4]</td>\n",
       "      <td>[6, 7, 5, 4]</td>\n",
       "      <td>[31, 32, 43, 32]</td>\n",
       "    </tr>\n",
       "    <tr>\n",
       "      <th>c</th>\n",
       "      <td>[1, 2, 3, 4]</td>\n",
       "      <td>[6, 7, 5, 4]</td>\n",
       "      <td>[31, 32, 43, 32]</td>\n",
       "    </tr>\n",
       "  </tbody>\n",
       "</table>\n",
       "</div>"
      ],
      "text/plain": [
       "              w             e                 r\n",
       "a  [1, 2, 3, 4]  [6, 7, 5, 4]  [31, 32, 43, 32]\n",
       "b  [1, 2, 3, 4]  [6, 7, 5, 4]  [31, 32, 43, 32]\n",
       "c  [1, 2, 3, 4]  [6, 7, 5, 4]  [31, 32, 43, 32]"
      ]
     },
     "execution_count": 49,
     "metadata": {},
     "output_type": "execute_result"
    }
   ],
   "source": [
    "b=pd.DataFrame([[[1,2,3,4],[6,7,5,4],[31,32,43,32]]], index=['a','b','c'], columns=['w','e','r'])\n",
    "b"
   ]
  },
  {
   "cell_type": "code",
   "execution_count": 74,
   "metadata": {},
   "outputs": [
    {
     "name": "stdout",
     "output_type": "stream",
     "text": [
      "  Name  Age  Marks\n",
      "1    A   21  12.43\n",
      "2    B   54   2.46\n",
      "3    C   76  87.65\n",
      "1    Name: A\n",
      "2    Name: B\n",
      "3    Name: C\n",
      "Name: Name, dtype: object\n"
     ]
    }
   ],
   "source": [
    "#Example \n",
    "data=[['A',21,12.43],['B',54,2.46],['C',76,87.65]]\n",
    "df=pd.DataFrame(data,columns=['Name','Age','Marks'],index=['1','2','3'])\n",
    "print(df)\n",
    "print(\"Name: \"+df['Name'])\n",
    "print()\n"
   ]
  },
  {
   "cell_type": "code",
   "execution_count": 108,
   "metadata": {},
   "outputs": [
    {
     "name": "stdout",
     "output_type": "stream",
     "text": [
      "     Name  Marks  Ratings\n",
      "0  Python     87       11\n",
      "1    Java     65       32\n",
      "2     C++     54      111\n",
      "3     Dev     42       23\n",
      "4      QA     86       44\n",
      "Sum of all the dataframe: Name       PythonJavaC++DevQA\n",
      "Marks                     334\n",
      "Ratings                   221\n",
      "dtype: object\n",
      "Sum of marks column: 334\n",
      "87\n",
      "5\n",
      "0     11\n",
      "1     43\n",
      "2    154\n",
      "3    177\n",
      "4    221\n",
      "Name: Ratings, dtype: int64\n",
      "0            87\n",
      "1          5655\n",
      "2        305370\n",
      "3      12825540\n",
      "4    1102996440\n",
      "Name: Marks, dtype: int32\n"
     ]
    }
   ],
   "source": [
    "# Operations and Sorting\n",
    "d={'Name':pd.Series(['Python','Java','C++','Dev','QA']),'Marks':pd.Series([87,65,54,42,86],dtype='int32'),'Ratings':[11,32,111,23,44]}\n",
    "\n",
    "data=pd.DataFrame(d)\n",
    "print(data)\n",
    "print(\"Sum of all the dataframe: \"+str(data.sum()))\n",
    "print(\"Sum of marks column: \"+str(data['Marks'].sum()))\n",
    "print(data.Marks.max())\n",
    "print(data.Ratings.count())\n",
    "print(data.Ratings.cumsum())\n",
    "print(data.Marks.cumprod())"
   ]
  },
  {
   "cell_type": "code",
   "execution_count": 109,
   "metadata": {},
   "outputs": [
    {
     "name": "stdout",
     "output_type": "stream",
     "text": [
      "       col2      col1\n",
      "1  1.107462 -0.311039\n",
      "4 -1.694045  2.354881\n",
      "6  0.961183  0.428036\n",
      "2 -1.075955 -0.236551\n",
      "3  0.776060 -0.992140\n",
      "5  0.636326 -2.819838\n",
      "9 -1.246367  1.005988\n",
      "8  0.584800 -1.156995\n",
      "0  0.107150 -0.522624\n",
      "7 -0.493900 -0.505496\n"
     ]
    }
   ],
   "source": [
    "#Sorting\n",
    "data=pd.DataFrame(np.random.randn(10,2), index=[1,4,6,2,3,5,9,8,0,7], columns=['col2','col1'])\n",
    "print (data)"
   ]
  },
  {
   "cell_type": "code",
   "execution_count": 110,
   "metadata": {},
   "outputs": [
    {
     "data": {
      "text/html": [
       "<div>\n",
       "<style scoped>\n",
       "    .dataframe tbody tr th:only-of-type {\n",
       "        vertical-align: middle;\n",
       "    }\n",
       "\n",
       "    .dataframe tbody tr th {\n",
       "        vertical-align: top;\n",
       "    }\n",
       "\n",
       "    .dataframe thead th {\n",
       "        text-align: right;\n",
       "    }\n",
       "</style>\n",
       "<table border=\"1\" class=\"dataframe\">\n",
       "  <thead>\n",
       "    <tr style=\"text-align: right;\">\n",
       "      <th></th>\n",
       "      <th>col2</th>\n",
       "      <th>col1</th>\n",
       "    </tr>\n",
       "  </thead>\n",
       "  <tbody>\n",
       "    <tr>\n",
       "      <th>0</th>\n",
       "      <td>0.107150</td>\n",
       "      <td>-0.522624</td>\n",
       "    </tr>\n",
       "    <tr>\n",
       "      <th>1</th>\n",
       "      <td>1.107462</td>\n",
       "      <td>-0.311039</td>\n",
       "    </tr>\n",
       "    <tr>\n",
       "      <th>2</th>\n",
       "      <td>-1.075955</td>\n",
       "      <td>-0.236551</td>\n",
       "    </tr>\n",
       "    <tr>\n",
       "      <th>3</th>\n",
       "      <td>0.776060</td>\n",
       "      <td>-0.992140</td>\n",
       "    </tr>\n",
       "    <tr>\n",
       "      <th>4</th>\n",
       "      <td>-1.694045</td>\n",
       "      <td>2.354881</td>\n",
       "    </tr>\n",
       "    <tr>\n",
       "      <th>5</th>\n",
       "      <td>0.636326</td>\n",
       "      <td>-2.819838</td>\n",
       "    </tr>\n",
       "    <tr>\n",
       "      <th>6</th>\n",
       "      <td>0.961183</td>\n",
       "      <td>0.428036</td>\n",
       "    </tr>\n",
       "    <tr>\n",
       "      <th>7</th>\n",
       "      <td>-0.493900</td>\n",
       "      <td>-0.505496</td>\n",
       "    </tr>\n",
       "    <tr>\n",
       "      <th>8</th>\n",
       "      <td>0.584800</td>\n",
       "      <td>-1.156995</td>\n",
       "    </tr>\n",
       "    <tr>\n",
       "      <th>9</th>\n",
       "      <td>-1.246367</td>\n",
       "      <td>1.005988</td>\n",
       "    </tr>\n",
       "  </tbody>\n",
       "</table>\n",
       "</div>"
      ],
      "text/plain": [
       "       col2      col1\n",
       "0  0.107150 -0.522624\n",
       "1  1.107462 -0.311039\n",
       "2 -1.075955 -0.236551\n",
       "3  0.776060 -0.992140\n",
       "4 -1.694045  2.354881\n",
       "5  0.636326 -2.819838\n",
       "6  0.961183  0.428036\n",
       "7 -0.493900 -0.505496\n",
       "8  0.584800 -1.156995\n",
       "9 -1.246367  1.005988"
      ]
     },
     "execution_count": 110,
     "metadata": {},
     "output_type": "execute_result"
    }
   ],
   "source": [
    "#Ascending order\n",
    "a=data.sort_index()\n",
    "a"
   ]
  },
  {
   "cell_type": "code",
   "execution_count": 111,
   "metadata": {},
   "outputs": [
    {
     "data": {
      "text/html": [
       "<div>\n",
       "<style scoped>\n",
       "    .dataframe tbody tr th:only-of-type {\n",
       "        vertical-align: middle;\n",
       "    }\n",
       "\n",
       "    .dataframe tbody tr th {\n",
       "        vertical-align: top;\n",
       "    }\n",
       "\n",
       "    .dataframe thead th {\n",
       "        text-align: right;\n",
       "    }\n",
       "</style>\n",
       "<table border=\"1\" class=\"dataframe\">\n",
       "  <thead>\n",
       "    <tr style=\"text-align: right;\">\n",
       "      <th></th>\n",
       "      <th>col2</th>\n",
       "      <th>col1</th>\n",
       "    </tr>\n",
       "  </thead>\n",
       "  <tbody>\n",
       "    <tr>\n",
       "      <th>9</th>\n",
       "      <td>-1.246367</td>\n",
       "      <td>1.005988</td>\n",
       "    </tr>\n",
       "    <tr>\n",
       "      <th>8</th>\n",
       "      <td>0.584800</td>\n",
       "      <td>-1.156995</td>\n",
       "    </tr>\n",
       "    <tr>\n",
       "      <th>7</th>\n",
       "      <td>-0.493900</td>\n",
       "      <td>-0.505496</td>\n",
       "    </tr>\n",
       "    <tr>\n",
       "      <th>6</th>\n",
       "      <td>0.961183</td>\n",
       "      <td>0.428036</td>\n",
       "    </tr>\n",
       "    <tr>\n",
       "      <th>5</th>\n",
       "      <td>0.636326</td>\n",
       "      <td>-2.819838</td>\n",
       "    </tr>\n",
       "    <tr>\n",
       "      <th>4</th>\n",
       "      <td>-1.694045</td>\n",
       "      <td>2.354881</td>\n",
       "    </tr>\n",
       "    <tr>\n",
       "      <th>3</th>\n",
       "      <td>0.776060</td>\n",
       "      <td>-0.992140</td>\n",
       "    </tr>\n",
       "    <tr>\n",
       "      <th>2</th>\n",
       "      <td>-1.075955</td>\n",
       "      <td>-0.236551</td>\n",
       "    </tr>\n",
       "    <tr>\n",
       "      <th>1</th>\n",
       "      <td>1.107462</td>\n",
       "      <td>-0.311039</td>\n",
       "    </tr>\n",
       "    <tr>\n",
       "      <th>0</th>\n",
       "      <td>0.107150</td>\n",
       "      <td>-0.522624</td>\n",
       "    </tr>\n",
       "  </tbody>\n",
       "</table>\n",
       "</div>"
      ],
      "text/plain": [
       "       col2      col1\n",
       "9 -1.246367  1.005988\n",
       "8  0.584800 -1.156995\n",
       "7 -0.493900 -0.505496\n",
       "6  0.961183  0.428036\n",
       "5  0.636326 -2.819838\n",
       "4 -1.694045  2.354881\n",
       "3  0.776060 -0.992140\n",
       "2 -1.075955 -0.236551\n",
       "1  1.107462 -0.311039\n",
       "0  0.107150 -0.522624"
      ]
     },
     "execution_count": 111,
     "metadata": {},
     "output_type": "execute_result"
    }
   ],
   "source": [
    "# Desending mail\n",
    "a=data.sort_index(ascending=False)\n",
    "a"
   ]
  },
  {
   "cell_type": "code",
   "execution_count": 115,
   "metadata": {},
   "outputs": [
    {
     "data": {
      "text/html": [
       "<div>\n",
       "<style scoped>\n",
       "    .dataframe tbody tr th:only-of-type {\n",
       "        vertical-align: middle;\n",
       "    }\n",
       "\n",
       "    .dataframe tbody tr th {\n",
       "        vertical-align: top;\n",
       "    }\n",
       "\n",
       "    .dataframe thead th {\n",
       "        text-align: right;\n",
       "    }\n",
       "</style>\n",
       "<table border=\"1\" class=\"dataframe\">\n",
       "  <thead>\n",
       "    <tr style=\"text-align: right;\">\n",
       "      <th></th>\n",
       "      <th>col2</th>\n",
       "      <th>col1</th>\n",
       "    </tr>\n",
       "  </thead>\n",
       "  <tbody>\n",
       "    <tr>\n",
       "      <th>5</th>\n",
       "      <td>0.636326</td>\n",
       "      <td>-2.819838</td>\n",
       "    </tr>\n",
       "    <tr>\n",
       "      <th>8</th>\n",
       "      <td>0.584800</td>\n",
       "      <td>-1.156995</td>\n",
       "    </tr>\n",
       "    <tr>\n",
       "      <th>3</th>\n",
       "      <td>0.776060</td>\n",
       "      <td>-0.992140</td>\n",
       "    </tr>\n",
       "    <tr>\n",
       "      <th>0</th>\n",
       "      <td>0.107150</td>\n",
       "      <td>-0.522624</td>\n",
       "    </tr>\n",
       "    <tr>\n",
       "      <th>7</th>\n",
       "      <td>-0.493900</td>\n",
       "      <td>-0.505496</td>\n",
       "    </tr>\n",
       "    <tr>\n",
       "      <th>1</th>\n",
       "      <td>1.107462</td>\n",
       "      <td>-0.311039</td>\n",
       "    </tr>\n",
       "    <tr>\n",
       "      <th>2</th>\n",
       "      <td>-1.075955</td>\n",
       "      <td>-0.236551</td>\n",
       "    </tr>\n",
       "    <tr>\n",
       "      <th>6</th>\n",
       "      <td>0.961183</td>\n",
       "      <td>0.428036</td>\n",
       "    </tr>\n",
       "    <tr>\n",
       "      <th>9</th>\n",
       "      <td>-1.246367</td>\n",
       "      <td>1.005988</td>\n",
       "    </tr>\n",
       "    <tr>\n",
       "      <th>4</th>\n",
       "      <td>-1.694045</td>\n",
       "      <td>2.354881</td>\n",
       "    </tr>\n",
       "  </tbody>\n",
       "</table>\n",
       "</div>"
      ],
      "text/plain": [
       "       col2      col1\n",
       "5  0.636326 -2.819838\n",
       "8  0.584800 -1.156995\n",
       "3  0.776060 -0.992140\n",
       "0  0.107150 -0.522624\n",
       "7 -0.493900 -0.505496\n",
       "1  1.107462 -0.311039\n",
       "2 -1.075955 -0.236551\n",
       "6  0.961183  0.428036\n",
       "9 -1.246367  1.005988\n",
       "4 -1.694045  2.354881"
      ]
     },
     "execution_count": 115,
     "metadata": {},
     "output_type": "execute_result"
    }
   ],
   "source": [
    "#Sorting based on Quicksort,merge,heapsort\n",
    "c=data.sort_values(by='col1',kind='quicksort')\n",
    "c"
   ]
  },
  {
   "cell_type": "markdown",
   "metadata": {},
   "source": [
    "# String Operations"
   ]
  },
  {
   "cell_type": "code",
   "execution_count": 117,
   "metadata": {},
   "outputs": [
    {
     "name": "stdout",
     "output_type": "stream",
     "text": [
      "0    Katrina\n",
      "1      Raman\n",
      "2    Jessica\n",
      "3     Albert\n",
      "4       1234\n",
      "5      Smith\n",
      "dtype: object\n"
     ]
    }
   ],
   "source": [
    "s = pd.Series(['Katrina','Raman','Jessica','Albert','1234','Smith'])\n",
    "print (s)"
   ]
  },
  {
   "cell_type": "code",
   "execution_count": 126,
   "metadata": {},
   "outputs": [
    {
     "name": "stdout",
     "output_type": "stream",
     "text": [
      "0    katrina\n",
      "1      raman\n",
      "2    jessica\n",
      "3     albert\n",
      "4       1234\n",
      "5      smith\n",
      "dtype: object\n",
      "0    KATRINA\n",
      "1      RAMAN\n",
      "2    JESSICA\n",
      "3     ALBERT\n",
      "4       1234\n",
      "5      SMITH\n",
      "dtype: object\n",
      "0    7\n",
      "1    5\n",
      "2    7\n",
      "3    6\n",
      "4    4\n",
      "5    5\n",
      "dtype: int64\n",
      "0     True\n",
      "1    False\n",
      "2    False\n",
      "3    False\n",
      "4    False\n",
      "5    False\n",
      "dtype: bool\n",
      "0    Saatrina\n",
      "1       Raman\n",
      "2     Jessica\n",
      "3      Albert\n",
      "4        1234\n",
      "5       Smith\n",
      "dtype: object\n",
      "0    kATRINA\n",
      "1      rAMAN\n",
      "2    jESSICA\n",
      "3     aLBERT\n",
      "4       1234\n",
      "5      sMITH\n",
      "dtype: object\n",
      "0    [a, a]\n",
      "1    [a, a]\n",
      "2       [a]\n",
      "3        []\n",
      "4        []\n",
      "5        []\n",
      "dtype: object\n"
     ]
    }
   ],
   "source": [
    "#String lower\n",
    "print(s.str.lower())\n",
    "print(s.str.upper())\n",
    "print(s.str.len())\n",
    "print(s.str.contains('K'))\n",
    "print(s.str.replace('K','Sa'))\n",
    "print(s.str.swapcase())\n",
    "print(s.str.findall('a'))"
   ]
  },
  {
   "cell_type": "markdown",
   "metadata": {},
   "source": [
    "# Indexing Description¶\n",
    "### .loc() Label based\n",
    "### .iloc() Integer based\n",
    "### .ix() Both Label and Integer based"
   ]
  },
  {
   "cell_type": "code",
   "execution_count": 144,
   "metadata": {},
   "outputs": [
    {
     "name": "stdout",
     "output_type": "stream",
     "text": [
      "          A         B         C         D         E\n",
      "a  1.409358 -1.777084 -0.421434  1.161613  0.965976\n",
      "b  0.415332  1.681649  0.216763 -2.374708 -0.588022\n",
      "c  1.290138 -0.063813 -1.868252  1.289896 -0.743843\n",
      "d  0.837330 -0.132673 -0.195111 -0.792296  2.665518\n",
      "e -0.761606  0.614978  0.804544  0.216854 -0.013701\n",
      "f  0.905338 -1.069557 -0.122560 -0.401552  0.473162\n",
      "g  1.001207  0.228678 -0.699412 -0.080534 -0.280871\n",
      "h  0.117243 -0.703354  0.737421  0.416833 -0.080695\n",
      "i -0.548494 -0.656093 -0.975058  2.516256 -1.460917\n",
      "j  0.902046  0.101687 -1.074528  0.710457  1.300503\n"
     ]
    }
   ],
   "source": [
    "df = pd.DataFrame(np.random.randn(10,5), index =['a','b','c','d','e','f','g','h','i','j'], columns = ['A','B','C','D','E'])\n",
    "print(df)"
   ]
  },
  {
   "cell_type": "code",
   "execution_count": 150,
   "metadata": {},
   "outputs": [
    {
     "name": "stdout",
     "output_type": "stream",
     "text": [
      "a    1.409358\n",
      "b    0.415332\n",
      "c    1.290138\n",
      "d    0.837330\n",
      "e   -0.761606\n",
      "f    0.905338\n",
      "g    1.001207\n",
      "h    0.117243\n",
      "i   -0.548494\n",
      "j    0.902046\n",
      "Name: A, dtype: float64\n",
      "          A         B         C\n",
      "a  1.409358 -1.777084 -0.421434\n",
      "b  0.415332  1.681649  0.216763\n",
      "c  1.290138 -0.063813 -1.868252\n",
      "d  0.837330 -0.132673 -0.195111\n",
      "e -0.761606  0.614978  0.804544\n",
      "f  0.905338 -1.069557 -0.122560\n",
      "g  1.001207  0.228678 -0.699412\n",
      "h  0.117243 -0.703354  0.737421\n",
      "i -0.548494 -0.656093 -0.975058\n",
      "j  0.902046  0.101687 -1.074528\n"
     ]
    }
   ],
   "source": [
    "print(df.loc[:,'A'])\n",
    "print(df.loc[:,'A':'C'])"
   ]
  },
  {
   "cell_type": "code",
   "execution_count": 151,
   "metadata": {},
   "outputs": [
    {
     "name": "stdout",
     "output_type": "stream",
     "text": [
      "          A         C\n",
      "a  1.409358 -0.421434\n",
      "b  0.415332  0.216763\n",
      "c  1.290138 -1.868252\n",
      "d  0.837330 -0.195111\n",
      "e -0.761606  0.804544\n",
      "f  0.905338 -0.122560\n",
      "g  1.001207 -0.699412\n",
      "h  0.117243  0.737421\n",
      "i -0.548494 -0.975058\n",
      "j  0.902046 -1.074528\n"
     ]
    }
   ],
   "source": [
    "print(df.loc[:,['A','C']])"
   ]
  },
  {
   "cell_type": "code",
   "execution_count": 152,
   "metadata": {},
   "outputs": [
    {
     "name": "stdout",
     "output_type": "stream",
     "text": [
      "A    0.415332\n",
      "B    1.681649\n",
      "C    0.216763\n",
      "Name: b, dtype: float64\n"
     ]
    }
   ],
   "source": [
    "print(df.loc['b','A':'C'])"
   ]
  },
  {
   "cell_type": "code",
   "execution_count": 154,
   "metadata": {},
   "outputs": [
    {
     "name": "stdout",
     "output_type": "stream",
     "text": [
      "          A         B         C\n",
      "b  0.415332  1.681649  0.216763\n",
      "c  1.290138 -0.063813 -1.868252\n",
      "d  0.837330 -0.132673 -0.195111\n",
      "e -0.761606  0.614978  0.804544\n",
      "f  0.905338 -1.069557 -0.122560\n"
     ]
    }
   ],
   "source": [
    "print(df.loc['b':'f','A':'C'])"
   ]
  },
  {
   "cell_type": "code",
   "execution_count": 155,
   "metadata": {},
   "outputs": [
    {
     "name": "stdout",
     "output_type": "stream",
     "text": [
      "      A      B      C      D      E\n",
      "a  True  False  False   True   True\n",
      "b  True   True   True  False  False\n"
     ]
    }
   ],
   "source": [
    "print(df.loc[['a','b']]>0)"
   ]
  },
  {
   "cell_type": "code",
   "execution_count": 165,
   "metadata": {},
   "outputs": [
    {
     "name": "stdout",
     "output_type": "stream",
     "text": [
      "          B         C\n",
      "a -1.777084 -0.421434\n",
      "b  1.681649  0.216763\n",
      "c -0.063813 -1.868252\n",
      "d -0.132673 -0.195111\n",
      "e  0.614978  0.804544\n",
      "f -1.069557 -0.122560\n",
      "g  0.228678 -0.699412\n",
      "h -0.703354  0.737421\n",
      "i -0.656093 -0.975058\n",
      "j  0.101687 -1.074528\n",
      "          B         E\n",
      "c -0.063813 -0.743843\n",
      "f -1.069557  0.473162\n"
     ]
    }
   ],
   "source": [
    "# df.iloc\n",
    "print(df.iloc[:,[1,2]])\n",
    "print(df.iloc[[2,5],[1,4]])"
   ]
  },
  {
   "cell_type": "code",
   "execution_count": 175,
   "metadata": {},
   "outputs": [
    {
     "name": "stdout",
     "output_type": "stream",
     "text": [
      "          a         b\n",
      "0 -0.304602  0.999479\n",
      "1  1.077709  1.479893\n",
      "2  0.297719 -0.200318\n",
      "          a         b\n",
      "0  0.236052  1.277551\n",
      "1 -0.425910  0.738844\n",
      "2  0.311550  0.475125\n",
      "3  2.251510  1.411732\n",
      "4  1.454610 -0.824192\n",
      "          a         b\n",
      "0 -0.304602  0.999479\n",
      "1  1.077709  1.479893\n",
      "2  0.297719 -0.200318\n",
      "3       NaN       NaN\n",
      "4       NaN       NaN\n",
      "          a         b\n",
      "0  0.236052  1.277551\n",
      "1 -0.425910  0.738844\n",
      "2  0.311550  0.475125\n"
     ]
    }
   ],
   "source": [
    "# reindex_like\n",
    "a=pd.DataFrame(np.random.randn(3,2), columns=['a','b'])\n",
    "b=pd.DataFrame(np.random.randn(5,2), columns=['a','b'])\n",
    "print(a)\n",
    "print(b)\n",
    "\n",
    "print(a.reindex_like(b))\n",
    "print(b.reindex_like(a))"
   ]
  },
  {
   "cell_type": "code",
   "execution_count": null,
   "metadata": {},
   "outputs": [],
   "source": [
    "df1 = pd.DataFrame(np.random.randn(10,3),columns=['col1','col2','col3'])\n",
    "df2 = pd.DataFrame(np.random.randn(7,3),columns=['col1','col2','col3'])\n",
    "print(df1)\n",
    "print(df2)\n",
    "print(df1.reindex_like(df2))\n",
    "print(df2.reindex_like(df1))\n"
   ]
  },
  {
   "cell_type": "code",
   "execution_count": null,
   "metadata": {},
   "outputs": [],
   "source": []
  }
 ],
 "metadata": {
  "kernelspec": {
   "display_name": "Python 3",
   "language": "python",
   "name": "python3"
  },
  "language_info": {
   "codemirror_mode": {
    "name": "ipython",
    "version": 3
   },
   "file_extension": ".py",
   "mimetype": "text/x-python",
   "name": "python",
   "nbconvert_exporter": "python",
   "pygments_lexer": "ipython3",
   "version": "3.8.3"
  }
 },
 "nbformat": 4,
 "nbformat_minor": 4
}
